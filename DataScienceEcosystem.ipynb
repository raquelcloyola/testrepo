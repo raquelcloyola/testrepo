{
 "cells": [
  {
   "cell_type": "markdown",
   "id": "30312585-9e62-40c4-ae1e-5db681fc0628",
   "metadata": {},
   "source": [
    "# Data Science Tools and Ecosystem"
   ]
  },
  {
   "cell_type": "markdown",
   "id": "36ca60da-f51d-436c-be0f-3f545d96b675",
   "metadata": {},
   "source": [
    "In this notebook, Data Science Tools and Ecosystem are summarized."
   ]
  },
  {
   "cell_type": "markdown",
   "id": "efc42dcf-ab6a-4629-b6ea-7ef623670919",
   "metadata": {},
   "source": [
    "Some of the popular languages that Data Scientists use are:"
   ]
  },
  {
   "cell_type": "markdown",
   "id": "987f5333-0d70-4fd3-b18b-de2164f55ce5",
   "metadata": {},
   "source": [
    "1. Python\n",
    "2. R\n",
    "3. Julia"
   ]
  },
  {
   "cell_type": "markdown",
   "id": "7efe4973-3989-4bab-9705-4d43afdc6773",
   "metadata": {},
   "source": [
    "Some of the commonly used libraries used by Data Scientists include:"
   ]
  },
  {
   "cell_type": "markdown",
   "id": "e9fc6bed-ebc0-4c47-a177-c753d23e7113",
   "metadata": {},
   "source": [
    "1. NumPy\n",
    "2. Keras\n",
    "3. Pandas"
   ]
  },
  {
   "cell_type": "markdown",
   "id": "6832f136-5550-416f-9668-04324b63b6fe",
   "metadata": {},
   "source": [
    "|Data Science Tools|\n",
    "---\n",
    "|Jupyter Notebooks|\n",
    "|Zeppelin Notebooks|\n",
    "|R Studio’s|"
   ]
  },
  {
   "cell_type": "markdown",
   "id": "6147e536-9aca-4534-a7dd-c2a20ab95f5c",
   "metadata": {},
   "source": [
    "### Below are a few examples of evaluating arithmetic expressions in Python"
   ]
  },
  {
   "cell_type": "code",
   "execution_count": null,
   "id": "928db8f4-332d-42a6-b191-1cfcf707d843",
   "metadata": {},
   "outputs": [],
   "source": [
    "#This a simple arithmetic expression to mutiply then add integers"
   ]
  },
  {
   "cell_type": "code",
   "execution_count": 3,
   "id": "f20097dc-69d8-4a8c-99b4-b629a1fb609e",
   "metadata": {},
   "outputs": [
    {
     "data": {
      "text/plain": [
       "17"
      ]
     },
     "execution_count": 3,
     "metadata": {},
     "output_type": "execute_result"
    }
   ],
   "source": [
    "(3*4)+5"
   ]
  },
  {
   "cell_type": "code",
   "execution_count": null,
   "id": "c03be39f-52fd-454b-9a5e-f4077398340b",
   "metadata": {},
   "outputs": [],
   "source": [
    "#This will conThis will convert 200 minutes to hours by diving by 60"
   ]
  },
  {
   "cell_type": "code",
   "execution_count": 7,
   "id": "d51e33c9-827e-4f13-952f-782107729c66",
   "metadata": {},
   "outputs": [],
   "source": [
    "#200 minutes = "
   ]
  },
  {
   "cell_type": "code",
   "execution_count": 8,
   "id": "0225e8e1-7cf9-4a52-b5c9-3a98d2a8c129",
   "metadata": {},
   "outputs": [
    {
     "data": {
      "text/plain": [
       "3.3333333333333335"
      ]
     },
     "execution_count": 8,
     "metadata": {},
     "output_type": "execute_result"
    }
   ],
   "source": [
    "(200/60)"
   ]
  },
  {
   "cell_type": "markdown",
   "id": "c5bf0952-3c32-46e6-a16b-cb1c227512c7",
   "metadata": {},
   "source": [
    "**Objectives:**"
   ]
  },
  {
   "cell_type": "markdown",
   "id": "28366628-3978-4b14-a587-6d25fc255398",
   "metadata": {},
   "source": [
    "* List popular languages for Data Science\n",
    "* List popular tools for Data Science\n",
    "* List popular databases for Data Science                        "
   ]
  },
  {
   "cell_type": "markdown",
   "id": "d079787c-3f23-4af8-ae66-cca2a24b7b51",
   "metadata": {},
   "source": [
    "## Author"
   ]
  },
  {
   "cell_type": "markdown",
   "id": "8dd276af-abe6-4ddd-923e-2e51628897ec",
   "metadata": {},
   "source": [
    "Raquel Cristina Loyola"
   ]
  },
  {
   "cell_type": "code",
   "execution_count": null,
   "id": "2cc6562e-c043-4288-b568-281dea0be060",
   "metadata": {},
   "outputs": [],
   "source": []
  }
 ],
 "metadata": {
  "kernelspec": {
   "display_name": "Python 3 (ipykernel)",
   "language": "python",
   "name": "python3"
  },
  "language_info": {
   "codemirror_mode": {
    "name": "ipython",
    "version": 3
   },
   "file_extension": ".py",
   "mimetype": "text/x-python",
   "name": "python",
   "nbconvert_exporter": "python",
   "pygments_lexer": "ipython3",
   "version": "3.11.7"
  }
 },
 "nbformat": 4,
 "nbformat_minor": 5
}
